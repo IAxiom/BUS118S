{
  "nbformat": 4,
  "nbformat_minor": 0,
  "metadata": {
    "colab": {
      "provenance": [],
      "authorship_tag": "ABX9TyO38bv/+f+zhIpPAEtB7t/r",
      "include_colab_link": true
    },
    "kernelspec": {
      "name": "python3",
      "display_name": "Python 3"
    },
    "language_info": {
      "name": "python"
    }
  },
  "cells": [
    {
      "cell_type": "markdown",
      "metadata": {
        "id": "view-in-github",
        "colab_type": "text"
      },
      "source": [
        "<a href=\"https://colab.research.google.com/github/IAxiom/BUS118S/blob/main/Self_Reflection_Prompt_for_Improving_Output.ipynb\" target=\"_parent\"><img src=\"https://colab.research.google.com/assets/colab-badge.svg\" alt=\"Open In Colab\"/></a>"
      ]
    },
    {
      "cell_type": "code",
      "execution_count": null,
      "metadata": {
        "id": "FG4ZyDiPYB-Z"
      },
      "outputs": [],
      "source": [
        "!pip install openai\n",
        "\n",
        "import os\n",
        "import openai\n",
        "\n",
        "# Set your API key\n",
        "os.environ['OPENAI_API_KEY'] = 'OpenAIKey'\n",
        "client = openai.OpenAI()\n",
        "\n",
        "# System prompt\n",
        "system_prompt = \"You are an AI summarizer that uses self-reflection to improve outputs.\"\n",
        "\n",
        "# Sample text to summarize (from the documents, e.g., AI agent definition)\n",
        "text = \"AI agents are autonomous or semi-autonomous software systems that leverage Large Language Models (LLMs) and other AI tools to perceive information, make decisions, and perform tasks without continuous human input.\"\n",
        "\n",
        "# Function to call the LLM\n",
        "def call_llm(prompt):\n",
        "    response = client.chat.completions.create(\n",
        "        model=\"gpt-4o-mini\",\n",
        "        messages=[\n",
        "            {\"role\": \"system\", \"content\": system_prompt},\n",
        "            {\"role\": \"user\", \"content\": prompt}\n",
        "        ]\n",
        "    )\n",
        "    return response.choices[0].message.content.strip()\n",
        "\n",
        "# Step 1: Generate initial summary\n",
        "prompt1 = f\"Summarize this text in 3 bullet points: {text}.\"\n",
        "initial_summary = call_llm(prompt1)\n",
        "print(\"Initial Summary:\\n\", initial_summary)\n",
        "\n",
        "# Step 2: Self-reflect and improve\n",
        "prompt2 = f\"Here is your summary: {initial_summary}. Critique it for accuracy, clarity, and completeness. Then provide an improved version.\"\n",
        "improved_summary = call_llm(prompt2)\n",
        "print(\"Improved Summary after Reflection:\\n\", improved_summary)"
      ]
    }
  ]
}